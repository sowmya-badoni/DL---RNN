{
 "nbformat": 4,
 "nbformat_minor": 0,
 "metadata": {
  "colab": {
   "provenance": []
  },
  "kernelspec": {
   "name": "python3",
   "display_name": "Python 3"
  },
  "language_info": {
   "name": "python"
  }
 },
 "cells": [
  {
   "cell_type": "code",
   "execution_count": null,
   "metadata": {
    "id": "qgocI3bB6Zr-"
   },
   "outputs": [],
   "source": [
    "import numpy as np\n",
    "import pandas as pd\n",
    "import matplotlib.pyplot as plt\n",
    "from sklearn.preprocessing import MinMaxScaler\n",
    "import torch\n",
    "import torch.nn as nn\n",
    "from torch.utils.data import DataLoader, TensorDataset"
   ]
  },
  {
   "cell_type": "code",
   "source": [
    "## Step 1: Load and Preprocess Data\n",
    "# Load training and test datasets\n",
    "df_train = pd.read_csv('trainset.csv')\n",
    "df_test = pd.read_csv('testset.csv')"
   ],
   "metadata": {
    "id": "I5lBoimG6n1M"
   },
   "execution_count": null,
   "outputs": []
  },
  {
   "cell_type": "code",
   "source": [
    "# Use closing prices\n",
    "train_prices = df_train['Close'].values.reshape(-1, 1)\n",
    "test_prices = df_test['Close'].values.reshape(-1, 1)"
   ],
   "metadata": {
    "id": "e8-Y9p-E9eq8"
   },
   "execution_count": null,
   "outputs": []
  },
  {
   "cell_type": "code",
   "source": [
    "# Normalize the data based on training set only\n",
    "scaler = MinMaxScaler()\n",
    "scaled_train = scaler.fit_transform(train_prices)\n",
    "scaled_test = scaler.transform(test_prices)"
   ],
   "metadata": {
    "id": "dbOYkRbM9kla"
   },
   "execution_count": null,
   "outputs": []
  },
  {
   "cell_type": "code",
   "source": [
    "# Create sequences\n",
    "def create_sequences(data, seq_length):\n",
    "    x = []\n",
    "    y = []\n",
    "    for i in range(len(data) - seq_length):\n",
    "        x.append(data[i:i+seq_length])\n",
    "        y.append(data[i+seq_length])\n",
    "    return np.array(x), np.array(y)\n",
    "\n",
    "seq_length = 60\n",
    "x_train, y_train = create_sequences(scaled_train, seq_length)\n",
    "x_test, y_test = create_sequences(scaled_test, seq_length)\n"
   ],
   "metadata": {
    "id": "j6ulBhK29mqD"
   },
   "execution_count": null,
   "outputs": []
  },
  {
   "cell_type": "code",
   "source": [
    "x_train.shape, y_train.shape, x_test.shape, y_test.shape"
   ],
   "metadata": {
    "id": "QkzR9hhm_hws"
   },
   "execution_count": null,
   "outputs": []
  },
  {
   "cell_type": "code",
   "source": [
    "# Convert to PyTorch tensors\n",
    "x_train_tensor = torch.tensor(x_train, dtype=torch.float32)\n",
    "y_train_tensor = torch.tensor(y_train, dtype=torch.float32)\n",
    "x_test_tensor = torch.tensor(x_test, dtype=torch.float32)\n",
    "y_test_tensor = torch.tensor(y_test, dtype=torch.float32)\n"
   ],
   "metadata": {
    "id": "Es76fOIu9r_i"
   },
   "execution_count": null,
   "outputs": []
  },
  {
   "cell_type": "code",
   "source": [
    "# Create dataset and dataloader\n",
    "train_dataset = TensorDataset(x_train_tensor, y_train_tensor)\n",
    "train_loader = DataLoader(train_dataset, batch_size=64, shuffle=True)"
   ],
   "metadata": {
    "id": "Rv12uiYe9wI0"
   },
   "execution_count": null,
   "outputs": []
  },
  {
   "cell_type": "code",
   "source": [
    "## Step 2: Define RNN Model\n",
    "class RNNModel(nn.Module):\n",
    "    # write your code here\n",
    "\n",
    "\n",
    "\n",
    "\n",
    "\n",
    "\n"
   ],
   "metadata": {
    "id": "O-9lYRgI97QL"
   },
   "execution_count": null,
   "outputs": []
  },
  {
   "cell_type": "code",
   "source": [
    "model = RNNModel()\n",
    "device = torch.device(\"cuda\" if torch.cuda.is_available() else \"cpu\")\n",
    "model = model.to(device)"
   ],
   "metadata": {
    "id": "EaAR46dm99qb"
   },
   "execution_count": null,
   "outputs": []
  },
  {
   "cell_type": "code",
   "source": [
    "!pip install torchinfo"
   ],
   "metadata": {
    "id": "Tk4FqP53Iqg7"
   },
   "execution_count": null,
   "outputs": []
  },
  {
   "cell_type": "code",
   "source": [
    "from torchinfo import summary\n",
    "\n",
    "# input_size = (batch_size, seq_len, input_size)\n",
    "summary(model, input_size=(64, 60, 1))"
   ],
   "metadata": {
    "id": "XAgiRFFK-C1a"
   },
   "execution_count": null,
   "outputs": []
  },
  {
   "cell_type": "code",
   "source": [
    "criterion =\n",
    "optimizer ="
   ],
   "metadata": {
    "id": "FxBUF7agJmiK"
   },
   "execution_count": null,
   "outputs": []
  },
  {
   "cell_type": "code",
   "source": [
    "## Step 3: Train the Model\n",
    "\n",
    "# Write your code here\n"
   ],
   "metadata": {
    "id": "n8ZSJkc1_GgW"
   },
   "execution_count": null,
   "outputs": []
  },
  {
   "cell_type": "code",
   "source": [
    "# Plot training loss\n",
    "# Name : Mohammed Saajid\n",
    "# Register Number : 212223240093\n",
    "plt.plot(train_losses, label='Training Loss')\n",
    "plt.xlabel('Epoch')\n",
    "plt.ylabel('MSE Loss')\n",
    "plt.title('Training Loss Over Epochs')\n",
    "plt.legend()\n",
    "plt.show()\n"
   ],
   "metadata": {
    "id": "T4BwLI1Z_Qpk"
   },
   "execution_count": null,
   "outputs": []
  },
  {
   "cell_type": "code",
   "source": [
    "## Step 4: Make Predictions on Test Set\n",
    "model.eval()\n",
    "with torch.no_grad():\n",
    "    predicted = model(x_test_tensor.to(device)).cpu().numpy()\n",
    "    actual = y_test_tensor.cpu().numpy()\n",
    "\n",
    "# Inverse transform the predictions and actual values\n",
    "predicted_prices = scaler.inverse_transform(predicted)\n",
    "actual_prices = scaler.inverse_transform(actual)\n",
    "\n",
    "# Plot the predictions vs actual prices\n",
    "# Name : Mohammed Saajid\n",
    "# Register Number : 212223240093\n",
    "plt.figure(figsize=(10, 6))\n",
    "plt.plot(actual_prices, label='Actual Price')\n",
    "plt.plot(predicted_prices, label='Predicted Price')\n",
    "plt.xlabel('Time')\n",
    "plt.ylabel('Price')\n",
    "plt.title('Stock Price Prediction using RNN')\n",
    "plt.legend()\n",
    "plt.show()\n",
    "print(f'Predicted Price: {predicted_prices[-1]}')\n",
    "print(f'Actual Price: {actual_prices[-1]}')"
   ],
   "metadata": {
    "id": "YhCCFikk_S8M"
   },
   "execution_count": null,
   "outputs": []
  }
 ]
}